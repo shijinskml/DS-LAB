{
 "cells": [
  {
   "cell_type": "code",
   "execution_count": 4,
   "metadata": {},
   "outputs": [
    {
     "name": "stdout",
     "output_type": "stream",
     "text": [
      "[20 30 40 50 60]\n",
      "[20 90 40 50 70]\n",
      "[False False False False False]\n",
      "[ True False  True  True False]\n",
      "[False  True False False  True]\n",
      "[ True  True  True  True  True]\n"
     ]
    }
   ],
   "source": [
    "import numpy as np\n",
    "arr152 = np.array([20,30,40,50,60])\n",
    "arr252 = np.array([20,90,40,50,70])\n",
    "print(arr152)\n",
    "print(arr252)\n",
    "print(np.greater(arr152,arr252))\n",
    "print(np.greater_equal(arr152,arr252))\n",
    "print(np.less(arr152,arr252))\n",
    "print(np.less_equal(arr152,arr252))"
   ]
  },
  {
   "cell_type": "code",
   "execution_count": 5,
   "metadata": {},
   "outputs": [
    {
     "name": "stdout",
     "output_type": "stream",
     "text": [
      "Array of all the even integers from 30 to 70\n",
      "[30 32 34 36 38 40 42 44 46 48 50 52 54 56 58 60 62 64 66 68 70]\n"
     ]
    }
   ],
   "source": [
    "arr352=np.arange(30,71,2)\n",
    "print(\"Array of all the even integers from 30 to 70\")\n",
    "print(arr352) "
   ]
  },
  {
   "cell_type": "code",
   "execution_count": 6,
   "metadata": {},
   "outputs": [
    {
     "name": "stdout",
     "output_type": "stream",
     "text": [
      "3x3 matrix:\n",
      "[[1. 0. 0.]\n",
      " [0. 1. 0.]\n",
      " [0. 0. 1.]]\n"
     ]
    }
   ],
   "source": [
    "arr452=np.identity(3)\n",
    "print('3x3 matrix:')\n",
    "print(arr452)"
   ]
  },
  {
   "cell_type": "code",
   "execution_count": 23,
   "metadata": {},
   "outputs": [
    {
     "name": "stdout",
     "output_type": "stream",
     "text": [
      "Original vector:\n",
      "[ 0  1  2  3  4  5  6  7  8  9 10 11 12 13 14 15 16 17 18 19 20]\n",
      "After changing the sign of the numbers in the range from 9 to 15:\n",
      "[  0   1   2   3   4   5   6   7   8  -9 -10 -11 -12 -13 -14 -15  16  17\n",
      "  18  19  20]\n"
     ]
    }
   ],
   "source": [
    "x52 = np.arange(21)\n",
    "print(\"Original vector:\")\n",
    "print(x52)\n",
    "print(\"After changing the sign of the numbers in the range from 9 to 15:\")\n",
    "x52[(x52 >= 9) & (x52 <= 15)] *= -1\n",
    "print(x52)"
   ]
  },
  {
   "cell_type": "code",
   "execution_count": 8,
   "metadata": {},
   "outputs": [
    {
     "name": "stdout",
     "output_type": "stream",
     "text": [
      "[[1 0 0 0 0]\n",
      " [0 2 0 0 0]\n",
      " [0 0 3 0 0]\n",
      " [0 0 0 4 0]\n",
      " [0 0 0 0 5]]\n"
     ]
    }
   ],
   "source": [
    "x52 = np.diag([1, 2, 3, 4, 5])\n",
    "print(x52)"
   ]
  },
  {
   "cell_type": "code",
   "execution_count": 10,
   "metadata": {},
   "outputs": [
    {
     "name": "stdout",
     "output_type": "stream",
     "text": [
      "Original array:\n",
      "[[5 8]\n",
      " [2 3]]\n",
      "Sum of all elements:\n",
      "18\n",
      "Sum of each column:\n",
      "[ 7 11]\n",
      "Sum of each row:\n",
      "[13  5]\n"
     ]
    }
   ],
   "source": [
    "x52 = np.array([[5,8],[2,3]])\n",
    "print(\"Original array:\")\n",
    "print(x52)\n",
    "print(\"Sum of all elements:\")\n",
    "print(np.sum(x52))\n",
    "print(\"Sum of each column:\")\n",
    "print(np.sum(x52, axis=0))\n",
    "print(\"Sum of each row:\")\n",
    "print(np.sum(x52, axis=1))"
   ]
  },
  {
   "cell_type": "code",
   "execution_count": 11,
   "metadata": {},
   "outputs": [
    {
     "name": "stdout",
     "output_type": "stream",
     "text": [
      "Original array:\n",
      "[[ 0  1  2]\n",
      " [ 3  4  5]\n",
      " [ 6  7  8]\n",
      " [ 9 10 11]]\n",
      "After loading, content of the text file:\n",
      "[[ 0.  1.  2.]\n",
      " [ 3.  4.  5.]\n",
      " [ 6.  7.  8.]\n",
      " [ 9. 10. 11.]]\n"
     ]
    }
   ],
   "source": [
    "import os\n",
    "x52 = np.arange(12).reshape(4, 3)\n",
    "print(\"Original array:\")\n",
    "print(x52)\n",
    "header = '0ne Two Three'\n",
    "np.savetxt('temp.txt', x52, fmt=\"%d\", header=header) \n",
    "print(\"After loading, content of the text file:\")\n",
    "result = np.loadtxt('temp.txt')\n",
    "print(result)\n"
   ]
  },
  {
   "cell_type": "code",
   "execution_count": 20,
   "metadata": {},
   "outputs": [
    {
     "name": "stdout",
     "output_type": "stream",
     "text": [
      "\n",
      "Original arrays:\n",
      "[0.5  1.5  0.23]\n",
      "[0.49      1.5444444 0.23     ]\n",
      "\n",
      " Two arrays are equal or not:?\n",
      "[False False  True]\n"
     ]
    }
   ],
   "source": [
    "num1 = np.array([0.5, 1.5, 0.23])\n",
    "num2 = np.array([0.49, 1.5444444, 0.23])\n",
    "print(\"\\nOriginal arrays:\")\n",
    "np.set_printoptions(precision=10)\n",
    "print(num1)\n",
    "print(num2)\n",
    "print(\"\\n Two arrays are equal or not:?\")\n",
    "print(np.equal(num1, num2))"
   ]
  },
  {
   "cell_type": "code",
   "execution_count": 21,
   "metadata": {},
   "outputs": [
    {
     "name": "stdout",
     "output_type": "stream",
     "text": [
      "Original array:\n",
      "[[ 0  1  2  3]\n",
      " [ 4  5  6  7]\n",
      " [ 8  9 10 11]\n",
      " [12 13 14 15]]\n",
      "\n",
      "swapping first and last rows of the said array:\n",
      "[[12 13 14 15]\n",
      " [ 4  5  6  7]\n",
      " [ 8  9 10 11]\n",
      " [ 0  1  2  3]]\n"
     ]
    }
   ],
   "source": [
    "nums = np.arange(16, dtype='int').reshape(-1, 4)\n",
    "print(\"Original array:\")\n",
    "print(nums)\n",
    "print(\"\\nswapping first and last rows of the said array:\")\n",
    "nums[[0,-1],:]=nums[[-1,0],:]\n",
    "print(nums)"
   ]
  },
  {
   "cell_type": "code",
   "execution_count": 22,
   "metadata": {},
   "outputs": [
    {
     "name": "stdout",
     "output_type": "stream",
     "text": [
      "Array1:\n",
      "[[2 5 2]\n",
      " [1 5 5]]\n",
      "Array2:\n",
      "[[5 3 4]\n",
      " [3 2 5]]\n",
      "\n",
      "Result\n",
      "[[10 15  8]\n",
      " [ 3 10 25]]\n"
     ]
    }
   ],
   "source": [
    "nums1 = np.array([[2, 5, 2],\n",
    "              [1, 5, 5]])\n",
    "nums2 = np.array([[5, 3, 4],\n",
    "              [3, 2, 5]])\n",
    "print(\"Array1:\") \n",
    "print(nums1)\n",
    "print(\"Array2:\") \n",
    "print(nums2)\n",
    "print(\"\\nResult\")\n",
    "print(np.multiply(nums1, nums2))\n",
    "\n"
   ]
  },
  {
   "cell_type": "code",
   "execution_count": null,
   "metadata": {},
   "outputs": [],
   "source": []
  }
 ],
 "metadata": {
  "kernelspec": {
   "display_name": "Python 3",
   "language": "python",
   "name": "python3"
  },
  "language_info": {
   "codemirror_mode": {
    "name": "ipython",
    "version": 3
   },
   "file_extension": ".py",
   "mimetype": "text/x-python",
   "name": "python",
   "nbconvert_exporter": "python",
   "pygments_lexer": "ipython3",
   "version": "3.8.3"
  }
 },
 "nbformat": 4,
 "nbformat_minor": 4
}
