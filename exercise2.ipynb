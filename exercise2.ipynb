{
 "cells": [
  {
   "cell_type": "code",
   "execution_count": 2,
   "metadata": {},
   "outputs": [
    {
     "name": "stdin",
     "output_type": "stream",
     "text": [
      "enter no. of rows 2\n",
      "enetr no. of colums 2\n"
     ]
    },
    {
     "name": "stdout",
     "output_type": "stream",
     "text": [
      "enter matrix1 elements\n"
     ]
    },
    {
     "name": "stdin",
     "output_type": "stream",
     "text": [
      " 12 13 14 15\n"
     ]
    },
    {
     "name": "stdout",
     "output_type": "stream",
     "text": [
      "enter matrix2 elements\n"
     ]
    },
    {
     "name": "stdin",
     "output_type": "stream",
     "text": [
      " 17 16 18 19\n"
     ]
    },
    {
     "name": "stdout",
     "output_type": "stream",
     "text": [
      "matrix1 \n",
      " [[12 13]\n",
      " [14 15]]\n",
      "matrix2 \n",
      " [[17 16]\n",
      " [18 19]]\n",
      "dot product \n",
      " [[438 439]\n",
      " [508 509]]\n",
      "transpose \n",
      " [[12 14]\n",
      " [13 15]]\n",
      "trace \n",
      " 27\n",
      "rank \n",
      " 2\n",
      "determinant \n",
      " -2.0000000000000173\n",
      "inverse \n",
      " [[-7.5  6.5]\n",
      " [ 7.  -6. ]]\n",
      "\n",
      "Eigenvalues:\n",
      "[-0.07387196 27.07387196]\n",
      "\n",
      "Eigenvectors:\n",
      "[[-0.73272482 -0.65309186]\n",
      " [ 0.68052505 -0.7572787 ]]\n"
     ]
    }
   ],
   "source": [
    "import numpy as np\n",
    "rows=int(input(\"enter no. of rows\"))\n",
    "col=int(input(\"enetr no. of colums\"))\n",
    "print(\"enter matrix1 elements\")\n",
    "elements1= list(map(int, input().split()))\n",
    "matrix1=np.array(elements1).reshape(rows,col)\n",
    "print(\"enter matrix2 elements\")\n",
    "elements2=list(map(int, input().split()))\n",
    "matrix2=np.array(elements2).reshape(rows,col)\n",
    "print(\"matrix1 \\n\",matrix1)\n",
    "print(\"matrix2 \\n\",matrix2)\n",
    "print(\"dot product \\n\",np.dot(matrix1,matrix2))\n",
    "print(\"transpose \\n\",np.transpose(matrix1))\n",
    "print(\"trace \\n\",np.trace(matrix1))\n",
    "print(\"rank \\n\",np.linalg.matrix_rank(matrix1))\n",
    "print(\"determinant \\n\",np.linalg.det(matrix1))\n",
    "print(\"inverse \\n\",np.linalg.inv(matrix1))\n",
    "w, v = np.linalg.eig(matrix1)\n",
    "print(\"\\nEigenvalues:\")\n",
    "print(w)\n",
    "print(\"\\nEigenvectors:\")\n",
    "print(v)"
   ]
  }
 ],
 "metadata": {
  "kernelspec": {
   "display_name": "Python 3",
   "language": "python",
   "name": "python3"
  },
  "language_info": {
   "codemirror_mode": {
    "name": "ipython",
    "version": 3
   },
   "file_extension": ".py",
   "mimetype": "text/x-python",
   "name": "python",
   "nbconvert_exporter": "python",
   "pygments_lexer": "ipython3",
   "version": "3.7.3"
  }
 },
 "nbformat": 4,
 "nbformat_minor": 2
}
