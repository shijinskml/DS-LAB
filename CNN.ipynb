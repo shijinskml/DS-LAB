{
  "nbformat": 4,
  "nbformat_minor": 0,
  "metadata": {
    "colab": {
      "provenance": []
    },
    "kernelspec": {
      "name": "python3",
      "display_name": "Python 3"
    },
    "language_info": {
      "name": "python"
    }
  },
  "cells": [
    {
      "cell_type": "code",
      "execution_count": 1,
      "metadata": {
        "id": "kRcdRLwA8l0K"
      },
      "outputs": [],
      "source": [
        "import numpy as np\n",
        "import pandas as pd\n",
        "import matplotlib.pyplot as plt\n",
        "\n",
        "import tensorflow as tf\n",
        "from tensorflow import keras"
      ]
    },
    {
      "cell_type": "code",
      "source": [
        "mnistDB = keras.datasets.mnist\n",
        "(x_train,y_train),(x_test,y_test) = mnistDB.load_data()"
      ],
      "metadata": {
        "colab": {
          "base_uri": "https://localhost:8080/"
        },
        "id": "8W_3FDYD9FjA",
        "outputId": "bf4a1b33-2f1a-466a-b921-39b8ce1f5695"
      },
      "execution_count": 2,
      "outputs": [
        {
          "output_type": "stream",
          "name": "stdout",
          "text": [
            "Downloading data from https://storage.googleapis.com/tensorflow/tf-keras-datasets/mnist.npz\n",
            "11490434/11490434 [==============================] - 0s 0us/step\n"
          ]
        }
      ]
    },
    {
      "cell_type": "code",
      "source": [
        "print(\"Shape of x_train:\",x_train.shape)\n",
        "print(\"Shape of x_test:\",x_test.shape)\n",
        "print(\"Shape of y_train:\",y_train.shape)\n",
        "print(\"Shape of y_test:\",y_test.shape)"
      ],
      "metadata": {
        "colab": {
          "base_uri": "https://localhost:8080/"
        },
        "id": "LaNo_TnB9MD-",
        "outputId": "44c80407-8bb6-44b0-dfab-44289d187d45"
      },
      "execution_count": 3,
      "outputs": [
        {
          "output_type": "stream",
          "name": "stdout",
          "text": [
            "Shape of x_train: (60000, 28, 28)\n",
            "Shape of x_test: (10000, 28, 28)\n",
            "Shape of y_train: (60000,)\n",
            "Shape of y_test: (10000,)\n"
          ]
        }
      ]
    },
    {
      "cell_type": "code",
      "source": [
        "plt.imshow(x_train[33],cmap='binary')\n",
        "x_train = x_train.reshape((60000,28,28,1))\n",
        "x_test = x_test.reshape((10000,28,28,1))\n",
        "\n",
        "x_train = x_train.astype('float32')/255\n",
        "x_test = x_test.astype('float32')/255\n",
        "\n",
        "print(\"Shape of x_train:\",x_train.shape)\n",
        "print(\"Shape of x_test:\",x_test.shape)"
      ],
      "metadata": {
        "colab": {
          "base_uri": "https://localhost:8080/",
          "height": 300
        },
        "id": "og7sDeKw9O4u",
        "outputId": "9f19d89c-ffa9-4b2b-b5e3-33be0823ac8d"
      },
      "execution_count": 4,
      "outputs": [
        {
          "output_type": "stream",
          "name": "stdout",
          "text": [
            "Shape of x_train: (60000, 28, 28, 1)\n",
            "Shape of x_test: (10000, 28, 28, 1)\n"
          ]
        },
        {
          "output_type": "display_data",
          "data": {
            "text/plain": [
              "<Figure size 432x288 with 1 Axes>"
            ],
            "image/png": "[encoded data removed]"
          },
          "metadata": {
            "needs_background": "light"
          }
        }
      ]
    },
    {
      "cell_type": "code",
      "source": [
        "cnnModel_MNIST = keras.models.Sequential()\n",
        "\n",
        "cnnModel_MNIST.add(keras.layers.Conv2D(32,(3,3),activation=\"relu\",input_shape=x_train.shape[1:]))\n",
        "cnnModel_MNIST.add(keras.layers.Conv2D(32,(3,3),activation=\"relu\"))\n",
        "cnnModel_MNIST.add(keras.layers.MaxPooling2D((2,2)))\n",
        "cnnModel_MNIST.add(keras.layers.Dropout(0.25))\n",
        "\n",
        "cnnModel_MNIST.add(keras.layers.Flatten())\n",
        "\n",
        "cnnModel_MNIST.add(keras.layers.Dense(128,activation=\"relu\"))\n",
        "cnnModel_MNIST.add(keras.layers.Dropout(0.25))\n",
        "cnnModel_MNIST.add(keras.layers.Dense(10,activation=\"softmax\"))\n",
        "cnnModel_MNIST.summary()\n",
        "cnnModel_MNIST.compile(loss = 'sparse_categorical_crossentropy', optimizer='adam',metrics=['accuracy'])\n",
        "cnnModel_MNIST.fit(x_train,y_train,epochs=1,batch_size=16)"
      ],
      "metadata": {
        "colab": {
          "base_uri": "https://localhost:8080/"
        },
        "id": "bgt3-nx19UBW",
        "outputId": "3f6d8582-dcfb-435b-95fe-e47b6c8261b4"
      },
      "execution_count": 7,
      "outputs": [
        {
          "output_type": "stream",
          "name": "stdout",
          "text": [
            "Model: \"sequential_2\"\n",
            "_________________________________________________________________\n",
            " Layer (type)                Output Shape              Param #   \n",
            "=================================================================\n",
            " conv2d_4 (Conv2D)           (None, 26, 26, 32)        320       \n",
            "                                                                 \n",
            " conv2d_5 (Conv2D)           (None, 24, 24, 32)        9248      \n",
            "                                                                 \n",
            " max_pooling2d_2 (MaxPooling  (None, 12, 12, 32)       0         \n",
            " 2D)                                                             \n",
            "                                                                 \n",
            " dropout (Dropout)           (None, 12, 12, 32)        0         \n",
            "                                                                 \n",
            " flatten (Flatten)           (None, 4608)              0         \n",
            "                                                                 \n",
            " dense (Dense)               (None, 128)               589952    \n",
            "                                                                 \n",
            " dropout_1 (Dropout)         (None, 128)               0         \n",
            "                                                                 \n",
            " dense_1 (Dense)             (None, 10)                1290      \n",
            "                                                                 \n",
            "=================================================================\n",
            "Total params: 600,810\n",
            "Trainable params: 600,810\n",
            "Non-trainable params: 0\n",
            "_________________________________________________________________\n",
            "3750/3750 [==============================] - 139s 37ms/step - loss: 0.1423 - accuracy: 0.9563\n"
          ]
        },
        {
          "output_type": "execute_result",
          "data": {
            "text/plain": [
              "<keras.callbacks.History at 0x7f8b75a358d0>"
            ]
          },
          "metadata": {},
          "execution_count": 7
        }
      ]
    }
  ]
}